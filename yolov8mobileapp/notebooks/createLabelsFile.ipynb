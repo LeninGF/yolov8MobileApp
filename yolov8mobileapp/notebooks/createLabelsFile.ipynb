{
 "cells": [
  {
   "cell_type": "markdown",
   "metadata": {},
   "source": [
    "## Mobile APP using Yolo Model Categorías\n",
    "\n",
    "* Coders:\n",
    "    - Lenin Falconí\n",
    "    - Mario Moreno\n",
    "    - Jonathan Zea\n",
    "\n",
    "Se ha utilizado el modelo original de YoloV5 que tiene al rededor de 80 categorías. A fin de poder utilizar dichas categorías con la aplicación Android es necesario obtener un archivo txt con las diferentes clases ya que el archivo *TFLITE* carece de las categorías.\n",
    "\n",
    "En este Notebook se realiza la conversión desde el archivo json `\\MLProjects\\yolov8MobileApp\\yolov8mobileapp\\docs\\categories.json` al archivo txt"
   ]
  },
  {
   "cell_type": "code",
   "execution_count": 4,
   "metadata": {},
   "outputs": [
    {
     "data": {
      "text/plain": [
       "80"
      ]
     },
     "execution_count": 4,
     "metadata": {},
     "output_type": "execute_result"
    }
   ],
   "source": [
    "import json\n",
    "import pandas as pd\n",
    "import os\n",
    "\n",
    "path_2_categories = \".././docs/categories.json\"\n",
    "\n",
    "with open(path_2_categories, 'r') as f:\n",
    "    data_dict = json.load(f)\n",
    "len(data_dict.keys())"
   ]
  },
  {
   "cell_type": "markdown",
   "metadata": {},
   "source": [
    "Se ha verificado que existen 80 categorías en el modelo YOLO V5 original. Se procede a generar un archivo *.txt que guarde sólo los valores. Para visualizar los datos observemos un pandas dataframe"
   ]
  },
  {
   "cell_type": "code",
   "execution_count": 7,
   "metadata": {},
   "outputs": [
    {
     "data": {
      "text/html": [
       "<div>\n",
       "<style scoped>\n",
       "    .dataframe tbody tr th:only-of-type {\n",
       "        vertical-align: middle;\n",
       "    }\n",
       "\n",
       "    .dataframe tbody tr th {\n",
       "        vertical-align: top;\n",
       "    }\n",
       "\n",
       "    .dataframe thead th {\n",
       "        text-align: right;\n",
       "    }\n",
       "</style>\n",
       "<table border=\"1\" class=\"dataframe\">\n",
       "  <thead>\n",
       "    <tr style=\"text-align: right;\">\n",
       "      <th></th>\n",
       "      <th>Categoría</th>\n",
       "    </tr>\n",
       "  </thead>\n",
       "  <tbody>\n",
       "    <tr>\n",
       "      <th>0</th>\n",
       "      <td>person</td>\n",
       "    </tr>\n",
       "    <tr>\n",
       "      <th>1</th>\n",
       "      <td>bicycle</td>\n",
       "    </tr>\n",
       "    <tr>\n",
       "      <th>2</th>\n",
       "      <td>car</td>\n",
       "    </tr>\n",
       "    <tr>\n",
       "      <th>3</th>\n",
       "      <td>motorcycle</td>\n",
       "    </tr>\n",
       "    <tr>\n",
       "      <th>4</th>\n",
       "      <td>airplane</td>\n",
       "    </tr>\n",
       "    <tr>\n",
       "      <th>5</th>\n",
       "      <td>bus</td>\n",
       "    </tr>\n",
       "    <tr>\n",
       "      <th>6</th>\n",
       "      <td>train</td>\n",
       "    </tr>\n",
       "    <tr>\n",
       "      <th>7</th>\n",
       "      <td>truck</td>\n",
       "    </tr>\n",
       "    <tr>\n",
       "      <th>8</th>\n",
       "      <td>boat</td>\n",
       "    </tr>\n",
       "    <tr>\n",
       "      <th>9</th>\n",
       "      <td>traffic light</td>\n",
       "    </tr>\n",
       "  </tbody>\n",
       "</table>\n",
       "</div>"
      ],
      "text/plain": [
       "       Categoría\n",
       "0         person\n",
       "1        bicycle\n",
       "2            car\n",
       "3     motorcycle\n",
       "4       airplane\n",
       "5            bus\n",
       "6          train\n",
       "7          truck\n",
       "8           boat\n",
       "9  traffic light"
      ]
     },
     "execution_count": 7,
     "metadata": {},
     "output_type": "execute_result"
    }
   ],
   "source": [
    "categorias_df = pd.DataFrame.from_dict(data_dict, orient='index', columns=['Categoría'])\n",
    "categorias_df.head(10)"
   ]
  },
  {
   "cell_type": "code",
   "execution_count": 11,
   "metadata": {},
   "outputs": [
    {
     "name": "stdout",
     "output_type": "stream",
     "text": [
      ".././docs/yololabels.txt creado exitosamente\n"
     ]
    }
   ],
   "source": [
    "path_2_labels_file = '.././docs/yololabels.txt'\n",
    "with open(path_2_labels_file, 'w') as f:\n",
    "    for key in data_dict.keys():\n",
    "        f.write(data_dict[key]+'\\n')\n",
    "\n",
    "print(f'{path_2_labels_file} creado exitosamente')"
   ]
  },
  {
   "cell_type": "markdown",
   "metadata": {},
   "source": [
    "1. Este archivo de categorías se copia a la carpeta de assets del proyecto android\n",
    "2. El modelo TFLITE también se copia a la carpeta de assets"
   ]
  }
 ],
 "metadata": {
  "kernelspec": {
   "display_name": "ptwin",
   "language": "python",
   "name": "python3"
  },
  "language_info": {
   "codemirror_mode": {
    "name": "ipython",
    "version": 3
   },
   "file_extension": ".py",
   "mimetype": "text/x-python",
   "name": "python",
   "nbconvert_exporter": "python",
   "pygments_lexer": "ipython3",
   "version": "3.9.15"
  }
 },
 "nbformat": 4,
 "nbformat_minor": 2
}
