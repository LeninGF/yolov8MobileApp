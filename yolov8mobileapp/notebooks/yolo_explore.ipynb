{
 "cells": [
  {
   "cell_type": "markdown",
   "metadata": {},
   "source": [
    "## Mobile APP using Yolo Model\n",
    "\n",
    "* Coders:\n",
    "    - Lenin Falconí\n",
    "    - Mario Moreno\n",
    "    - Jonathan Zea"
   ]
  },
  {
   "cell_type": "markdown",
   "metadata": {},
   "source": [
    "## Goals\n",
    "\n",
    "- Obtener un modelo en /TFLITE/ para consumir modelos de Yolo en sistemas móbiles como Android\n",
    "- Explorar las predicciones con Yolo"
   ]
  },
  {
   "cell_type": "code",
   "execution_count": null,
   "metadata": {},
   "outputs": [],
   "source": [
    "import torch\n",
    "from torchvision.models import yolov8\n",
    "model = yolov8(pretrained=True)\n",
    "model.export('model.tflite')"
   ]
  }
 ],
 "metadata": {
  "kernelspec": {
   "display_name": "ptwin",
   "language": "python",
   "name": "python3"
  },
  "language_info": {
   "name": "python",
   "version": "3.9.15"
  }
 },
 "nbformat": 4,
 "nbformat_minor": 2
}
